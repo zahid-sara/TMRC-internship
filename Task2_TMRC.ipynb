{
  "cells": [
    {
      "cell_type": "markdown",
      "id": "840911d1",
      "metadata": {
        "id": "840911d1"
      },
      "source": [
        "# Basic function without enhancement\n",
        "def simple_greet():\n",
        "    print(\"Hi there!\")\n",
        "\n",
        "# Decorator definition\n",
        "def enhancer(original_function):\n",
        "    def enhanced_version():\n",
        "        print(\" Executing pre-task setup...\")\n",
        "        original_function()\n",
        "        print(\" Task completed successfully.\")\n",
        "    return enhanced_version\n",
        "\n",
        "@enhancer\n",
        "def show_greeting():\n",
        "    print(\"Hi there!\")"
      ]
    },
    {
      "cell_type": "code",
      "execution_count": null,
      "id": "1fc160b1",
      "metadata": {
        "id": "1fc160b1"
      },
      "outputs": [],
      "source": [
        "# Alternative to decorator usage:\n",
        "# show_greeting = enhancer(show_greeting)"
      ]
    },
    {
      "cell_type": "code",
      "execution_count": null,
      "id": "372680e3",
      "metadata": {
        "id": "372680e3"
      },
      "outputs": [],
      "source": [
        "show_greeting()"
      ]
    },
    {
      "cell_type": "code",
      "execution_count": null,
      "id": "ec4e792c",
      "metadata": {
        "id": "ec4e792c",
        "outputId": "353be240-f43a-44db-de8c-b42dc55fc959"
      },
      "outputs": [
        {
          "name": "stdout",
          "output_type": "stream",
          "text": [
            "✨Before function runs✨\n",
            "Hello!\n",
            "✨After function runs✨\n"
          ]
        }
      ],
      "source": [
        "say_hello()"
      ]
    },
    {
      "cell_type": "markdown",
      "id": "aadec983",
      "metadata": {
        "id": "aadec983"
      },
      "source": [
        "2. @staticmethod vs @classmethod vs @property <br>\n",
        "#### @staticmethod\n",
        "- Does not need self or cls\n",
        "- It’s a regular function inside class\n",
        "- Can’t access or modify class or object data"
      ]
    },
    {
      "cell_type": "code",
      "execution_count": null,
      "id": "d0f33cf5",
      "metadata": {
        "id": "d0f33cf5"
      },
      "outputs": [],
      "source": [
        "class Student:\n",
        "    @staticmethod\n",
        "    def school_name():\n",
        "        print(\"Bright Future School\")\n",
        "\n",
        "Student.school_name()  # ✅ No need to create object\n"
      ]
    },
    {
      "cell_type": "markdown",
      "id": "9f1aff53",
      "metadata": {
        "id": "9f1aff53"
      },
      "source": [
        "#### @classmethod\n",
        "- Has access to the class, not the object\n",
        "- Uses cls parameter\n",
        "- Can be used to create or modify class-level data"
      ]
    },
    {
      "cell_type": "code",
      "execution_count": null,
      "id": "d10f8924",
      "metadata": {
        "id": "d10f8924"
      },
      "outputs": [],
      "source": [
        "class Student:\n",
        "    school = \"Bright Future School\"\n",
        "\n",
        "    @classmethod\n",
        "    def change_school(cls, new_name):\n",
        "        cls.school = new_name\n",
        "\n",
        "Student.change_school(\"Green Valley School\")\n",
        "print(Student.school)\n"
      ]
    },
    {
      "cell_type": "markdown",
      "id": "879d23ac",
      "metadata": {
        "id": "879d23ac"
      },
      "source": [
        "#### @property\n",
        "- Used to get method like a variable\n",
        "- Turns a method into a read-only attribute"
      ]
    },
    {
      "cell_type": "markdown",
      "id": "dc809c86",
      "metadata": {
        "id": "dc809c86"
      },
      "source": [
        "class Circle:\n",
        "    def __init__(self, radius):\n",
        "        self._radius = radius\n",
        "\n",
        "    @property\n",
        "    def area(self):\n",
        "        return 3.14 * self._radius ** 2\n",
        "\n",
        "c = Circle(5)\n",
        "print(c.area)  #  Like variable, no brackets\n"
      ]
    },
    {
      "cell_type": "markdown",
      "id": "a994b521",
      "metadata": {
        "id": "a994b521"
      },
      "source": [
        "3. Function Arguments:"
      ]
    },
    {
      "cell_type": "code",
      "execution_count": null,
      "id": "3980cc26",
      "metadata": {
        "id": "3980cc26"
      },
      "outputs": [],
      "source": [
        "# 1. Regular Arguments\n",
        "def greet(name, age):\n",
        "    print(f\"Hello {name}, you are {age} years old.\")\n",
        "\n",
        "greet(\"Alice\", 25)  # Output: Hello Alice, you are 25 years old.\n"
      ]
    },
    {
      "cell_type": "code",
      "execution_count": null,
      "id": "6625501a",
      "metadata": {
        "id": "6625501a"
      },
      "outputs": [],
      "source": [
        "# 2. Default Arguments\n",
        "def greet(name=\"Guest\"):\n",
        "    print(f\"Hello {name}!\")\n",
        "\n",
        "greet(\"Bob\")     # Output: Hello Bob!\n",
        "greet()          # Output: Hello Guest!\n"
      ]
    },
    {
      "cell_type": "code",
      "execution_count": null,
      "id": "36817ec7",
      "metadata": {
        "id": "36817ec7"
      },
      "outputs": [],
      "source": [
        "##### 1. Python Function Wrappers (Decorators)\n",
        "- A function wrapper enhances another function by adding pre/post behavior without altering its actual code."
      ]
    },
    {
      "cell_type": "code",
      "execution_count": null,
      "id": "bc998aa7",
      "metadata": {
        "id": "bc998aa7"
      },
      "outputs": [],
      "source": [
        "#### @staticmethod\n",
        "- Declared within a class but behaves like a plain function\n",
        "- It doesn't use `self` or `cls`\n",
        "- Lacks access to instance or class attributes"
      ]
    },
    {
      "cell_type": "code",
      "execution_count": null,
      "id": "7846a616",
      "metadata": {
        "id": "7846a616"
      },
      "outputs": [],
      "source": [
        "#### @classmethod\n",
        "- Designed to interact with the class itself\n",
        "- Takes `cls` as the first parameter\n",
        "- Useful for changing or constructing class-level settings"
      ]
    },
    {
      "cell_type": "code",
      "execution_count": null,
      "id": "9e692713",
      "metadata": {
        "id": "9e692713"
      },
      "outputs": [],
      "source": [
        "# Combine All 4 Together\n",
        "def demo(a, b=10, *args, **kwargs):\n",
        "    print(\"a =\", a)\n",
        "    print(\"b =\", b)\n",
        "    print(\"args =\", args)\n",
        "    print(\"kwargs =\", kwargs)\n",
        "\n",
        "demo(1, 2, 3, 4, 5, x=100, y=200)"
      ]
    },
    {
      "cell_type": "markdown",
      "id": "ae2d5d0b",
      "metadata": {
        "id": "ae2d5d0b"
      },
      "source": [
        "4. Object-Oriented Programming (OOP)"
      ]
    },
    {
      "cell_type": "code",
      "execution_count": null,
      "id": "a02aa525",
      "metadata": {
        "id": "a02aa525"
      },
      "outputs": [],
      "source": [
        "class Car:\n",
        "    def __init__(self, brand):\n",
        "        self.brand = brand\n",
        "\n",
        "    def drive(self):\n",
        "        print(f\"{self.brand} is driving\")\n",
        "\n",
        "car1 = Car(\"Toyota\")\n",
        "car1.drive()\n"
      ]
    },
    {
      "cell_type": "markdown",
      "id": "8dbe0bf1",
      "metadata": {
        "id": "8dbe0bf1"
      },
      "source": [
        " 5. Inheritance – Reuse and Extend"
      ]
    },
    {
      "cell_type": "code",
      "execution_count": null,
      "id": "7b9e5f0d",
      "metadata": {
        "id": "7b9e5f0d"
      },
      "outputs": [],
      "source": [
        "class Animal:\n",
        "    def speak(self):\n",
        "        print(\"Animal speaks\")\n",
        "\n",
        "class Dog(Animal):  # Inheriting\n",
        "    def bark(self):\n",
        "        print(\"Dog barks\")\n",
        "\n",
        "d = Dog()\n",
        "d.speak()  # From Animal\n",
        "d.bark()   # From Dog\n"
      ]
    }
  ],
  "metadata": {
    "kernelspec": {
      "display_name": "Python 3",
      "language": "python",
      "name": "python3"
    },
    "language_info": {
      "codemirror_mode": {
        "name": "ipython",
        "version": 3
      },
      "file_extension": ".py",
      "mimetype": "text/x-python",
      "name": "python",
      "nbconvert_exporter": "python",
      "pygments_lexer": "ipython3",
      "version": "3.12.1"
    },
    "colab": {
      "provenance": []
    }
  },
  "nbformat": 4,
  "nbformat_minor": 5
}