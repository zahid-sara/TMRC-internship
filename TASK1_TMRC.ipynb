{
  "nbformat": 4,
  "nbformat_minor": 0,
  "metadata": {
    "colab": {
      "provenance": []
    },
    "kernelspec": {
      "name": "python3",
      "display_name": "Python 3"
    },
    "language_info": {
      "name": "python"
    }
  },
  "cells": [
    {
      "cell_type": "markdown",
      "source": [
        "**LIST**"
      ],
      "metadata": {
        "id": "EnDyvimtYClv"
      }
    },
    {
      "cell_type": "code",
      "source": [
        "my_list = [1, 2, 3, \"hello\", 3.14, 7]\n",
        "x = 3\n",
        "i = 3\n",
        "list2 = ['new', 'elements']\n",
        "\n",
        "my_list.append(x)         # Add item x ('a') at the end\n",
        "print(my_list)\n",
        "my_list.insert(i, x)      # Insert x ('a') at index 2\n",
        "print(my_list)\n",
        "my_list.extend(list2)     # Add all elements of list2 to my_list\n",
        "print(my_list)\n",
        "my_list.remove(x)         # Remove first occurrence of x ('a')\n",
        "print(my_list)\n",
        "my_list.pop(i)            # Remove and return item at index i (2)\n",
        "print(my_list)\n",
        "print(my_list.index(2))  # Return index of 'hello'\n",
        "print(my_list)\n",
        "print(my_list.count(x))   # Count occurrences of 'a'\n",
        "print(my_list)\n",
        "my_list.reverse()         # Reverse the list]\n",
        "print(my_list)\n",
        "\n",
        "my_list.remove('new')\n",
        "my_list.remove('elements')\n",
        "\n",
        "\n",
        "print(my_list)\n",
        "my_list.sort()\n",
        "\n",
        "print(my_list)\n",
        "\n",
        "my_list.clear()           # Remove all elements\n",
        "\n",
        "print(my_list)\n"
      ],
      "metadata": {
        "colab": {
          "base_uri": "https://localhost:8080/"
        },
        "id": "r58H4xDnTJ5G",
        "outputId": "339b82a4-c0f6-4423-9afe-423075571ab8"
      },
      "execution_count": null,
      "outputs": [
        {
          "output_type": "stream",
          "name": "stdout",
          "text": [
            "[1, 2, 3, 'hello', 3.14, 7, 3]\n",
            "[1, 2, 3, 3, 'hello', 3.14, 7, 3]\n",
            "[1, 2, 3, 3, 'hello', 3.14, 7, 3, 'new', 'elements']\n",
            "[1, 2, 3, 'hello', 3.14, 7, 3, 'new', 'elements']\n",
            "[1, 2, 3, 3.14, 7, 3, 'new', 'elements']\n",
            "1\n",
            "[1, 2, 3, 3.14, 7, 3, 'new', 'elements']\n",
            "2\n",
            "[1, 2, 3, 3.14, 7, 3, 'new', 'elements']\n",
            "['elements', 'new', 3, 7, 3.14, 3, 2, 1]\n",
            "[3, 7, 3.14, 3, 2, 1]\n",
            "[1, 2, 3, 3, 3.14, 7]\n",
            "[]\n"
          ]
        }
      ]
    },
    {
      "cell_type": "markdown",
      "source": [
        "**TUPLE**"
      ],
      "metadata": {
        "id": "_0v1V6pRYMzR"
      }
    },
    {
      "cell_type": "code",
      "source": [
        "my_tuple = (1, 2, 3, 2, 5, 2, \"hello\", 3.14)\n",
        "\n",
        "x = 2\n",
        "\n",
        "print(\"Tuple:\", my_tuple)\n",
        "\n",
        "# 1. index(x): Return the index of the **first** occurrence of x\n",
        "print(\"Index of x (2):\", my_tuple.index(x))\n",
        "\n",
        "# 2. count(x): Count how many times x appears\n",
        "print(\"Count of x (2):\", my_tuple.count(x))\n",
        "\n",
        "# 3. len(): Get the total number of elements in the tuple\n",
        "print(\"Length of tuple:\", len(my_tuple))\n"
      ],
      "metadata": {
        "colab": {
          "base_uri": "https://localhost:8080/"
        },
        "id": "8AddHJy8WUrm",
        "outputId": "05cf52a3-0303-49d9-a5de-072645f788ec"
      },
      "execution_count": null,
      "outputs": [
        {
          "output_type": "stream",
          "name": "stdout",
          "text": [
            "Tuple: (1, 2, 3, 2, 5, 2, 'hello', 3.14)\n",
            "Index of x (2): 1\n",
            "Count of x (2): 3\n",
            "Length of tuple: 8\n"
          ]
        }
      ]
    },
    {
      "cell_type": "markdown",
      "source": [
        "**DICTIONARY**"
      ],
      "metadata": {
        "id": "WiL78JVdYlx1"
      }
    },
    {
      "cell_type": "code",
      "source": [
        "my_dict = {\"name\": \"Sara\", \"role_num\": 18, \"city\": \"ISB\"}\n",
        "\n",
        "print(my_dict.get(\"name\"))         # 'Sara'\n",
        "print(my_dict.keys())              # dict_keys(['name', 'age', 'city'])\n",
        "print(my_dict.values())            # dict_values(['Sara', 22, 'Lahore'])\n",
        "print(my_dict.items())             # dict_items([('name', 'Sara'), ('age', 22), ('city', 'Lahore')])\n",
        "\n",
        "my_dict.update({\"country\": \"Pakistan\"})  # Add new key-value pair\n",
        "print(my_dict)\n",
        "\n",
        "my_dict.pop(\"name\")                 # Remove key 'age'\n",
        "print(my_dict)\n",
        "\n",
        "my_dict.popitem()                  # Remove last inserted item ('country')\n",
        "print(my_dict)\n",
        "\n",
        "copy_dict = my_dict.copy()         # Shallow copy\n",
        "print(copy_dict)\n",
        "\n",
        "my_dict.setdefault(\"gender\", \"female\")  # Adds key if not present\n",
        "print(my_dict)\n",
        "\n",
        "del my_dict[\"city\"]                # Deletes 'city'\n",
        "print(my_dict)\n"
      ],
      "metadata": {
        "colab": {
          "base_uri": "https://localhost:8080/"
        },
        "id": "RaKd2KNxYkWC",
        "outputId": "d272d769-1b06-40d1-b573-8bfd059737a8"
      },
      "execution_count": null,
      "outputs": [
        {
          "output_type": "stream",
          "name": "stdout",
          "text": [
            "Sara\n",
            "dict_keys(['name', 'role_num', 'city'])\n",
            "dict_values(['Sara', 18, 'ISB'])\n",
            "dict_items([('name', 'Sara'), ('role_num', 18), ('city', 'ISB')])\n",
            "{'name': 'Sara', 'role_num': 18, 'city': 'ISB', 'country': 'Pakistan'}\n",
            "{'role_num': 18, 'city': 'ISB', 'country': 'Pakistan'}\n",
            "{'role_num': 18, 'city': 'ISB'}\n",
            "{'role_num': 18, 'city': 'ISB'}\n",
            "{'role_num': 18, 'city': 'ISB', 'gender': 'female'}\n",
            "{'role_num': 18, 'gender': 'female'}\n"
          ]
        }
      ]
    },
    {
      "cell_type": "code",
      "source": [
        "A = {1, 2, 3}\n",
        "B = {3, 4, 5}\n",
        "\n",
        "A.add(6)\n",
        "print(\"After add:\", A)\n",
        "\n",
        "A.update([7, 8])\n",
        "print(\"After update:\", A)\n",
        "\n",
        "A.remove(2)\n",
        "print(\"After remove:\", A)\n",
        "\n",
        "A.discard(10)  # No error even if 10 doesn't exist\n",
        "print(\"After discard:\", A)\n",
        "\n",
        "element = A.pop()\n",
        "print(\"Popped element:\", element)\n",
        "\n",
        "print(\"Union:\", A.union(B))\n",
        "print(\"Intersection:\", A.intersection(B))\n",
        "print(\"Difference A-B:\", A.difference(B))\n",
        "print(\"Symmetric Difference:\", A.symmetric_difference(B))\n",
        "\n",
        "print(\"Is A subset of B?\", A.issubset(B))\n",
        "print(\"Is A superset of B?\", A.issuperset(B))\n",
        "print(\"Are A and B disjoint?\", A.isdisjoint(B))\n",
        "\n",
        "A.clear()\n",
        "print(\"After clear:\", A)\n"
      ],
      "metadata": {
        "colab": {
          "base_uri": "https://localhost:8080/"
        },
        "id": "vo3s2lzXZEvy",
        "outputId": "d28de1e1-91c7-4a1a-a6f0-95b24da58acc"
      },
      "execution_count": null,
      "outputs": [
        {
          "output_type": "stream",
          "name": "stdout",
          "text": [
            "After add: {1, 2, 3, 6}\n",
            "After update: {1, 2, 3, 6, 7, 8}\n",
            "After remove: {1, 3, 6, 7, 8}\n",
            "After discard: {1, 3, 6, 7, 8}\n",
            "Popped element: 1\n",
            "Union: {3, 4, 5, 6, 7, 8}\n",
            "Intersection: {3}\n",
            "Difference A-B: {8, 6, 7}\n",
            "Symmetric Difference: {4, 5, 6, 7, 8}\n",
            "Is A subset of B? False\n",
            "Is A superset of B? False\n",
            "Are A and B disjoint? False\n",
            "After clear: set()\n"
          ]
        }
      ]
    },
    {
      "cell_type": "code",
      "source": [
        "from pydantic import BaseModel\n",
        "\n",
        "class User(BaseModel):\n",
        "    id: int\n",
        "    name: str\n",
        "    is_active: bool = True  # default value\n",
        "\n",
        "# Creating object with correct types\n",
        "user = User(id='1', name=\"Sara\",is_active=\"False\")\n",
        "print(user)\n"
      ],
      "metadata": {
        "colab": {
          "base_uri": "https://localhost:8080/"
        },
        "id": "ejyqlx7ccoNa",
        "outputId": "529bd41a-dafc-433a-980a-98be16aa037b"
      },
      "execution_count": null,
      "outputs": [
        {
          "output_type": "stream",
          "name": "stdout",
          "text": [
            "id=1 name='Sara' is_active=False\n"
          ]
        }
      ]
    },
    {
      "cell_type": "code",
      "source": [
        "for x in range(5):\n",
        "  print(x)"
      ],
      "metadata": {
        "colab": {
          "base_uri": "https://localhost:8080/"
        },
        "id": "z7NNdZ2niPQJ",
        "outputId": "647d7f1f-5a55-4137-dd88-4c95b9c132e0"
      },
      "execution_count": null,
      "outputs": [
        {
          "output_type": "stream",
          "name": "stdout",
          "text": [
            "0\n",
            "1\n",
            "2\n",
            "3\n",
            "4\n"
          ]
        }
      ]
    },
    {
      "cell_type": "code",
      "source": [
        "list=[4,5,8,9,4,3,2,1,9]\n",
        "for i in range(len(list)):\n",
        "  print(list[i])"
      ],
      "metadata": {
        "colab": {
          "base_uri": "https://localhost:8080/"
        },
        "id": "uHi-S3hniXTT",
        "outputId": "892d75cc-fe90-4704-8259-7e086bcc2db1"
      },
      "execution_count": null,
      "outputs": [
        {
          "output_type": "stream",
          "name": "stdout",
          "text": [
            "4\n",
            "5\n",
            "8\n",
            "9\n",
            "4\n",
            "3\n",
            "2\n",
            "1\n",
            "9\n"
          ]
        }
      ]
    },
    {
      "cell_type": "code",
      "source": [
        "#Use when you don’t know how many arguments you'll receive.\n",
        "def add(*nums):\n",
        "    print(nums)\n",
        "    print(sum(nums))\n",
        "\n",
        "add(1, 2, 3, 4)  # prints (1, 2, 3, 4) and 10\n"
      ],
      "metadata": {
        "colab": {
          "base_uri": "https://localhost:8080/"
        },
        "id": "GQZGrxkmiufD",
        "outputId": "f479eb18-48fe-46aa-886a-1031c74c4705"
      },
      "execution_count": null,
      "outputs": [
        {
          "output_type": "stream",
          "name": "stdout",
          "text": [
            "(1, 2, 3, 4)\n",
            "10\n"
          ]
        }
      ]
    },
    {
      "cell_type": "code",
      "source": [
        "#Used to accept named arguments you didn’t define ahead of time.\n",
        "#**kwargs lets your function accept any number of named (keyword) arguments.\n",
        "def show_info(**kwargs):\n",
        "    for key, value in kwargs.items():\n",
        "        print(key, \"=\", value)\n",
        "\n",
        "show_info(name=\"Sara\", age=20)\n",
        "# name = Sara\n",
        "# age = 20\n",
        "\n",
        "\n",
        "def product_details(**kwargs):\n",
        "    print(\"Product Details:\")\n",
        "    for key, value in kwargs.items():\n",
        "        print(f\"{key}: {value}\")\n",
        "\n",
        "product_details(name=\"Lipstick\", price=1200, brand=\"Maybelline\", color=\"Red\")\n"
      ],
      "metadata": {
        "colab": {
          "base_uri": "https://localhost:8080/"
        },
        "id": "tWMbwYtzi8pS",
        "outputId": "65586a2b-9af3-4722-bb73-09496fffd082"
      },
      "execution_count": null,
      "outputs": [
        {
          "output_type": "stream",
          "name": "stdout",
          "text": [
            "name = Sara\n",
            "age = 20\n",
            "Product Details:\n",
            "name: Lipstick\n",
            "price: 1200\n",
            "brand: Maybelline\n",
            "color: Red\n"
          ]
        }
      ]
    },
    {
      "cell_type": "code",
      "source": [
        "numbers = [10, 20, 30]\n",
        "itr = iter(numbers)  # create iterator from list\n",
        "\n",
        "print(next(itr))  # 10\n",
        "print(next(itr))  # 20\n",
        "print(next(itr))  # 30\n",
        "\n",
        "\n",
        "def count_up_to(n):\n",
        "    i = 1\n",
        "    while i <= n:\n",
        "        yield i\n",
        "        i += 1\n",
        "\n",
        "gen = count_up_to(3)\n",
        "print(next(gen))  # 1\n",
        "print(next(gen))  # 2\n",
        "print(next(gen))  # 3\n"
      ],
      "metadata": {
        "colab": {
          "base_uri": "https://localhost:8080/"
        },
        "id": "Xf_iRyKalA1W",
        "outputId": "5fcfa5ca-3b7f-4d06-a8eb-0fe422cac8d4"
      },
      "execution_count": null,
      "outputs": [
        {
          "output_type": "stream",
          "name": "stdout",
          "text": [
            "10\n",
            "20\n",
            "30\n",
            "1\n",
            "2\n",
            "3\n"
          ]
        }
      ]
    },
    {
      "cell_type": "code",
      "source": [
        "def my_gen():\n",
        "    yield \"Hello\"\n",
        "    yield \"Sara\"\n",
        "\n",
        "gen = my_gen()\n",
        "print(next(gen))\n",
        "print(next(gen))"
      ],
      "metadata": {
        "colab": {
          "base_uri": "https://localhost:8080/"
        },
        "id": "IZPrOCEhneIX",
        "outputId": "7fab660d-9d34-4c28-d1e4-384c2cb12ec1"
      },
      "execution_count": null,
      "outputs": [
        {
          "output_type": "stream",
          "name": "stdout",
          "text": [
            "Hello\n",
            "Sara\n"
          ]
        }
      ]
    },
    {
      "cell_type": "code",
      "source": [
        "def greet(name=\"Sara\"):\n",
        "    print(\"Hello\", name)\n",
        "\n",
        "greet()          #No argument given\n",
        "# Output: Hello Sara\n",
        "\n",
        "greet(\"Zara\")    #  Argument given\n",
        "# Output: Hello Zara\n"
      ],
      "metadata": {
        "colab": {
          "base_uri": "https://localhost:8080/"
        },
        "id": "jU2mJzWMphnp",
        "outputId": "a4174a43-acda-4b50-caa1-30fd89e917b0"
      },
      "execution_count": null,
      "outputs": [
        {
          "output_type": "stream",
          "name": "stdout",
          "text": [
            "Hello Sara\n",
            "Hello Zara\n"
          ]
        }
      ]
    },
    {
      "cell_type": "code",
      "source": [
        "!pip install django\n"
      ],
      "metadata": {
        "colab": {
          "base_uri": "https://localhost:8080/"
        },
        "id": "1_g1tE57vnvV",
        "outputId": "7d5c2dfa-f5b6-40b3-b6b4-0f185f636dba"
      },
      "execution_count": null,
      "outputs": [
        {
          "output_type": "stream",
          "name": "stdout",
          "text": [
            "Collecting django\n",
            "  Downloading django-5.2.4-py3-none-any.whl.metadata (4.1 kB)\n",
            "Collecting asgiref>=3.8.1 (from django)\n",
            "  Downloading asgiref-3.9.0-py3-none-any.whl.metadata (9.3 kB)\n",
            "Requirement already satisfied: sqlparse>=0.3.1 in /usr/local/lib/python3.11/dist-packages (from django) (0.5.3)\n",
            "Downloading django-5.2.4-py3-none-any.whl (8.3 MB)\n",
            "\u001b[?25l   \u001b[90m━━━━━━━━━━━━━━━━━━━━━━━━━━━━━━━━━━━━━━━━\u001b[0m \u001b[32m0.0/8.3 MB\u001b[0m \u001b[31m?\u001b[0m eta \u001b[36m-:--:--\u001b[0m\r\u001b[2K   \u001b[91m━━━━━━━━━━━━━━━━━━━━━━━━━\u001b[0m\u001b[90m╺\u001b[0m\u001b[90m━━━━━━━━━━━━━━\u001b[0m \u001b[32m5.2/8.3 MB\u001b[0m \u001b[31m157.6 MB/s\u001b[0m eta \u001b[36m0:00:01\u001b[0m\r\u001b[2K   \u001b[91m━━━━━━━━━━━━━━━━━━━━━━━━━━━━━━━━━━━━━━━\u001b[0m\u001b[91m╸\u001b[0m \u001b[32m8.3/8.3 MB\u001b[0m \u001b[31m162.7 MB/s\u001b[0m eta \u001b[36m0:00:01\u001b[0m\r\u001b[2K   \u001b[90m━━━━━━━━━━━━━━━━━━━━━━━━━━━━━━━━━━━━━━━━\u001b[0m \u001b[32m8.3/8.3 MB\u001b[0m \u001b[31m103.6 MB/s\u001b[0m eta \u001b[36m0:00:00\u001b[0m\n",
            "\u001b[?25hDownloading asgiref-3.9.0-py3-none-any.whl (23 kB)\n",
            "Installing collected packages: asgiref, django\n",
            "Successfully installed asgiref-3.9.0 django-5.2.4\n"
          ]
        }
      ]
    },
    {
      "cell_type": "code",
      "source": [
        "def greet(name=None):\n",
        "  if not name:\n",
        "    print(\"hello....\")\n",
        "  else:\n",
        "    print(f\"hello {name}\")\n",
        "\n",
        "name = input(\"Enter your name: \")\n",
        "greet(name)\n",
        "\n"
      ],
      "metadata": {
        "colab": {
          "base_uri": "https://localhost:8080/"
        },
        "id": "aE51cO1ox6Wv",
        "outputId": "aaa45175-742c-4e44-b026-bb5afdfc72bc"
      },
      "execution_count": null,
      "outputs": [
        {
          "output_type": "stream",
          "name": "stdout",
          "text": [
            "Enter your name: sara\n",
            "hello sara\n"
          ]
        }
      ]
    },
    {
      "cell_type": "code",
      "source": [
        "numbers = [1,2,3,4,5]\n",
        "square_numbers = [num**2 for num in numbers]\n",
        "print(square_numbers)\n"
      ],
      "metadata": {
        "colab": {
          "base_uri": "https://localhost:8080/"
        },
        "id": "1g-bU19PzZmM",
        "outputId": "9b7954fe-045a-41a4-da86-1ebfb2538598"
      },
      "execution_count": null,
      "outputs": [
        {
          "output_type": "stream",
          "name": "stdout",
          "text": [
            "[1, 4, 9, 16, 25]\n"
          ]
        }
      ]
    },
    {
      "cell_type": "code",
      "source": [
        "class Animal:\n",
        "    def speak(self):\n",
        "        print(\"Animal speaks\")\n",
        "\n",
        "class Dog(Animal):  # Inheriting Animal\n",
        "    def bark(self):\n",
        "        print(\"Dog barks\")\n",
        "\n",
        "d = Dog()\n",
        "d.speak()   # From parent class\n",
        "d.bark()    # From child class\n"
      ],
      "metadata": {
        "colab": {
          "base_uri": "https://localhost:8080/"
        },
        "id": "L5JUCCMc22bG",
        "outputId": "c2df5d9c-11f1-4586-c21c-385e32328ac8"
      },
      "execution_count": null,
      "outputs": [
        {
          "output_type": "stream",
          "name": "stdout",
          "text": [
            "Animal speaks\n",
            "Dog barks\n"
          ]
        }
      ]
    },
    {
      "cell_type": "code",
      "source": [
        "class course:\n",
        "  def credit_hour(self):\n",
        "    print(3)\n",
        "\n",
        "class maths(course):\n",
        "  def finals(self):\n",
        "    print(\"60\")\n",
        "\n",
        "\n",
        "c = maths()\n",
        "c.credit_hour()\n",
        "c.finals()"
      ],
      "metadata": {
        "colab": {
          "base_uri": "https://localhost:8080/"
        },
        "id": "c42PcWwM3gdB",
        "outputId": "0464fb21-845e-494b-d37c-72fc4ac216ec"
      },
      "execution_count": null,
      "outputs": [
        {
          "output_type": "stream",
          "name": "stdout",
          "text": [
            "3\n",
            "60\n"
          ]
        }
      ]
    }
  ]
}